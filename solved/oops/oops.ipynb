{
 "cells": [
  {
   "cell_type": "code",
   "execution_count": null,
   "metadata": {},
   "outputs": [],
   "source": [
    "#OOPS principles and examples\n",
    "\"\"\"\n",
    "Encapsulation\n",
    "    - Class's private variables, private methods are not exposed to outside, using getter and setter we interact with data\n",
    "    - other functions/objects interact with this class through public methods/public attributes of this class\n",
    "Abstraction\n",
    "    - Coffee Machine Internal Implementation is hidden inside, Machine's user just have to put the cup and press the button.\n",
    "    - Mobile phone (we just have to give inputs, internal implementation end user doesn't have to know)\n",
    "Inheritance\n",
    "    - reuse the common logic, extract the unique logic to new child class (class hierarchy)\n",
    "    -\n",
    "Polymorphism\n",
    "    - \n",
    "    - Abstract Shape Class has abstract method calculate_surface_area() or calculate_perimeter() -> Its Child Classes like Triangle, Circle, Rectangle, Square will have their own such methods \n",
    "\n",
    "\"\"\""
   ]
  }
 ],
 "metadata": {
  "language_info": {
   "name": "python"
  },
  "orig_nbformat": 4
 },
 "nbformat": 4,
 "nbformat_minor": 2
}
