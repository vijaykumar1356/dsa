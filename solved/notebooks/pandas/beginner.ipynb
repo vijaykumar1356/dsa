{
 "cells": [
  {
   "cell_type": "code",
   "execution_count": 14,
   "metadata": {},
   "outputs": [],
   "source": [
    "import pandas as pd\n",
    "\n",
    "df1 = pd.DataFrame({'a': [1, 2, 3], 'b': [4, 5, 6]})\n",
    "df2 = pd.DataFrame({'a': [1.5, 2.5, 3.5], 'b': [4.1, 5.1, 6.1], 'c': [9,9,9]})\n",
    "\n"
   ]
  },
  {
   "cell_type": "code",
   "execution_count": 17,
   "metadata": {},
   "outputs": [],
   "source": [
    "df3 = pd.concat([df1, df2])"
   ]
  },
  {
   "cell_type": "code",
   "execution_count": null,
   "metadata": {},
   "outputs": [],
   "source": [
    "df3.isnull().sum()"
   ]
  },
  {
   "cell_type": "code",
   "execution_count": 20,
   "metadata": {},
   "outputs": [],
   "source": [
    "import pandas as pd      \n",
    "data_info = {'first' : pd.Series([1, 2, 3], index=['a', 'b', 'c']),    \n",
    "       'second' : pd.Series([1, 2, 3, 4], index=['a', 'b', 'c', 'd'])}    \n",
    "  \n",
    "df = pd.DataFrame(data_info)    \n",
    "#To add new column third\n",
    "df['third']=pd.Series([10,20,30],index=['a','b','c'])   "
   ]
  }
 ],
 "metadata": {
  "kernelspec": {
   "display_name": "Python 3.10.6 ('.venv': venv)",
   "language": "python",
   "name": "python3"
  },
  "language_info": {
   "codemirror_mode": {
    "name": "ipython",
    "version": 3
   },
   "file_extension": ".py",
   "mimetype": "text/x-python",
   "name": "python",
   "nbconvert_exporter": "python",
   "pygments_lexer": "ipython3",
   "version": "3.10.6"
  },
  "orig_nbformat": 4,
  "vscode": {
   "interpreter": {
    "hash": "feff64d6893cbda03c2e83e1cbddced0a65bf96b8f53e8aa3240023b54e16e57"
   }
  }
 },
 "nbformat": 4,
 "nbformat_minor": 2
}
