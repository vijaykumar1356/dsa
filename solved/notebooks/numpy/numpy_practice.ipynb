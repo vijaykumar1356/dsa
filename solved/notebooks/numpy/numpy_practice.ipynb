{
 "cells": [
  {
   "cell_type": "code",
   "execution_count": 2,
   "metadata": {},
   "outputs": [],
   "source": [
    "import numpy as np\n",
    "import matplotlib.pyplot as plt"
   ]
  },
  {
   "cell_type": "code",
   "execution_count": 1,
   "metadata": {},
   "outputs": [],
   "source": [
    "import numpy as np\n",
    "a1 = np.zeros([2, 3], dtype=float)\n",
    "a2 = np.linspace(0, 10, 5)\n",
    "a3 = np.arange(1, 12, 2)\n",
    "a4 = np.ones([5,5], dtype=int)\n",
    "x = np.linspace(0, 10, 50)\n",
    "y = x**2\n",
    "a5 = np.array(['jim', 'josh', 'arc', 'lavita'])\n"
   ]
  },
  {
   "cell_type": "code",
   "execution_count": null,
   "metadata": {},
   "outputs": [],
   "source": [
    "multiply = np.vectorize(lambda x: x[0])\n",
    "a5[multiply(a5) == 'j']"
   ]
  },
  {
   "cell_type": "code",
   "execution_count": null,
   "metadata": {},
   "outputs": [],
   "source": [
    "nums = np.arange(0, 10001, 1)\n",
    "nums = nums[(nums % 4 != 0) * (nums % 7 != 0)]\n",
    "sum(nums)"
   ]
  },
  {
   "cell_type": "code",
   "execution_count": null,
   "metadata": {},
   "outputs": [],
   "source": [
    "np.arange(15, dtype=np.int64).reshape(3, 5).itemsize\n"
   ]
  },
  {
   "cell_type": "code",
   "execution_count": null,
   "metadata": {},
   "outputs": [],
   "source": [
    "rg = np.random.default_rng(1)\n",
    "rg.random((2,3))"
   ]
  },
  {
   "cell_type": "code",
   "execution_count": null,
   "metadata": {},
   "outputs": [],
   "source": [
    "a = np.array([[3,4, 1], [8, 1, 9]])"
   ]
  },
  {
   "cell_type": "code",
   "execution_count": null,
   "metadata": {},
   "outputs": [],
   "source": [
    "data = np.loadtxt('wind.data')\n",
    "\"\"\"\n",
    "1. The data in 'wind.data' has the following format::\n",
    "\n",
    "        61  1  1 15.04 14.96 13.17  9.29 13.96  9.87 13.67 10.25 10.83 12.58 18.50 15.04\n",
    "        61  1  2 14.71 16.88 10.83  6.50 12.62  7.67 11.50 10.04  9.79  9.67 17.54 13.83\n",
    "        61  1  3 18.50 16.88 12.33 10.13 11.17  6.17 11.25  8.04  8.50  7.67 12.75 12.71\n",
    "\n",
    "   The first three columns are year, month and day.  The\n",
    "   remaining 12 columns are average windspeeds in knots at 12\n",
    "   locations in Ireland on that day.\n",
    "\n",
    "   Use the 'loadtxt' function from numpy to read the data into\n",
    "   an array.\n",
    "\"\"\"\n",
    "ymd = data[:, :3] # year, month, day\n",
    "speeds = data[:, 3:]\n",
    "\n"
   ]
  },
  {
   "cell_type": "code",
   "execution_count": null,
   "metadata": {},
   "outputs": [],
   "source": [
    "\"\"\"\n",
    "2. Calculate the min, max and mean windspeeds and standard deviation of the\n",
    "   windspeeds over all the locations and all the times (a single set of numbers\n",
    "   for the entire dataset).\n",
    "\"\"\"\n",
    "print(f\"min : {speeds.min()}\")\n",
    "print(f\"max : {speeds.max()}\")\n",
    "print(f\"mean : {speeds.mean()}\")\n",
    "print(f\"standard deviation : {speeds.std()}\")"
   ]
  },
  {
   "cell_type": "code",
   "execution_count": null,
   "metadata": {},
   "outputs": [],
   "source": [
    "\"\"\"\n",
    "3. Calculate the min, max and mean windspeeds and standard deviations of the\n",
    "   windspeeds at each location over all the days (a different set of numbers\n",
    "   for each location)\n",
    "\"\"\"\n",
    "print(f\"min : {speeds.min(axis=0)}\")\n",
    "print(f\"max : {speeds.max(axis=0)}\")\n",
    "print(f\"mean : {speeds.mean(axis=0)}\")\n",
    "print(f\"standard deviation : {speeds.std(axis=0)}\")\n",
    "\n",
    "\n"
   ]
  },
  {
   "cell_type": "code",
   "execution_count": null,
   "metadata": {},
   "outputs": [],
   "source": [
    "\"\"\"\n",
    "4. Calculate the min, max and mean windspeed and standard deviations of the\n",
    "   windspeeds across all the locations at each day (a different set of numbers\n",
    "   for each day)\n",
    "\"\"\"\n",
    "print(f\"min : {speeds.min(axis=1)}\")\n",
    "print(f\"max : {speeds.max(axis=1)}\")\n",
    "print(f\"mean : {speeds.mean(axis=1)}\")\n",
    "print(f\"standard deviation : {speeds.std(axis=1)}\")"
   ]
  },
  {
   "cell_type": "code",
   "execution_count": null,
   "metadata": {},
   "outputs": [],
   "source": [
    "\"\"\"\n",
    "5. Find the location which has the greatest windspeed on each day (an integer\n",
    "   column number for each day).\n",
    "\"\"\"\n",
    "print('  daily max location:', speeds.argmax(axis=1)) # index of location between 0 and 11"
   ]
  },
  {
   "cell_type": "code",
   "execution_count": null,
   "metadata": {},
   "outputs": [],
   "source": [
    "\"\"\"\n",
    "6. Find the year, month and day on which the greatest windspeed was recorded.\n",
    "\"\"\"\n",
    "row, column = np.where(speeds == speeds.max())\n",
    "print(f\"[row, column] : [{row}, {column}]\")\n",
    "row, column = np.unravel_index(speeds.argmax(), shape=speeds.shape)\n",
    "speeds.max(axis=1).argmax() # max value across each row -> argmax gives index of max value from that array\n",
    "print(\"year, month, day\", ymd[speeds.max(axis=1).argmax()])\n",
    "print(\"year, month, day\", ymd[row])"
   ]
  },
  {
   "cell_type": "code",
   "execution_count": null,
   "metadata": {},
   "outputs": [],
   "source": [
    "\"\"\"\n",
    "7. Find the average windspeed in January for each location.\n",
    "\"\"\"\n",
    "january_filter = data[:, 1] == 1\n",
    "speeds[january_filter].mean(axis=0)"
   ]
  },
  {
   "cell_type": "code",
   "execution_count": null,
   "metadata": {},
   "outputs": [],
   "source": [
    "a = np.arange(10, 16, 1).reshape(2,3)\n",
    "\n",
    "a[[0, 0, 1], [0, 1, 1]]\n",
    "a.transpose()  # or a.T "
   ]
  },
  {
   "cell_type": "code",
   "execution_count": null,
   "metadata": {},
   "outputs": [],
   "source": []
  }
 ],
 "metadata": {
  "kernelspec": {
   "display_name": "Python 3.10.6 ('.venv': venv)",
   "language": "python",
   "name": "python3"
  },
  "language_info": {
   "codemirror_mode": {
    "name": "ipython",
    "version": 3
   },
   "file_extension": ".py",
   "mimetype": "text/x-python",
   "name": "python",
   "nbconvert_exporter": "python",
   "pygments_lexer": "ipython3",
   "version": "3.10.6"
  },
  "orig_nbformat": 4,
  "vscode": {
   "interpreter": {
    "hash": "feff64d6893cbda03c2e83e1cbddced0a65bf96b8f53e8aa3240023b54e16e57"
   }
  }
 },
 "nbformat": 4,
 "nbformat_minor": 2
}
