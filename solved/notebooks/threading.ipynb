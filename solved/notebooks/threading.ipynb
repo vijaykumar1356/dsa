{
 "cells": [
  {
   "cell_type": "code",
   "execution_count": null,
   "metadata": {},
   "outputs": [],
   "source": [
    "import threading\n",
    "import time\n",
    "\n",
    "def thread_fun():\n",
    "    print('thread function started!')\n",
    "    time.sleep(5)\n",
    "    print('thread function finished!')\n",
    "    \n",
    "\n",
    "print('thread count: ', threading.active_count())\n",
    "thrd = threading.Thread(target=thread_fun)\n",
    "thrd.start()\n",
    "print('thread count now: ', threading.active_count())\n",
    "thrd.join()\n",
    "print('thread count: ', threading.active_count())\n",
    "\n",
    "# to check kernel threads as well as jupyter python threads -> ps -eaf | grep jupyter\n",
    "# top -p <pid of jupyter runtime> change delay from 3.0 -> 0.5\n",
    "# Shift + H - to list all python+ kernel threads\n",
    "\"\"\"\n",
    "Python GIL never allow us to use CPU beyond 100%, single core always.\n",
    "even if multiple threads run, only single thread executed at a given point of time.\n",
    "it treats our CPU as single core CPU due to GIL.\n",
    "it is recommended to use multi threading if it is a network intensive I/O operations, file I/O operations.\n",
    "\n",
    "to unleash the power of multiple cores of CPU in Python, we need to use Multi Processing. \n",
    "it is recommended to use MultiProcessing in a CPU intensive operations.\n",
    "\"\"\"\n"
   ]
  },
  {
   "cell_type": "code",
   "execution_count": 43,
   "metadata": {},
   "outputs": [],
   "source": [
    "kill_thread = False"
   ]
  },
  {
   "cell_type": "code",
   "execution_count": 44,
   "metadata": {},
   "outputs": [],
   "source": [
    "# multi threading assumes CPU as single core CPU and uses 100% of one core. it can't go beyond 100% CPU utilization.\n",
    "def thread_func():\n",
    "    while True:\n",
    "        if kill_thread:\n",
    "            return\n",
    "\n",
    "thread_1 = threading.Thread(target=thread_func)\n",
    "thread_2 = threading.Thread(target=thread_func)\n"
   ]
  },
  {
   "cell_type": "code",
   "execution_count": 45,
   "metadata": {},
   "outputs": [],
   "source": [
    "thread_1.start()\n",
    "thread_2.start()"
   ]
  },
  {
   "cell_type": "code",
   "execution_count": 48,
   "metadata": {},
   "outputs": [],
   "source": [
    "kill_thread = True"
   ]
  },
  {
   "cell_type": "code",
   "execution_count": 47,
   "metadata": {},
   "outputs": [],
   "source": [
    "# Multi Processing\n",
    "import multiprocessing as mp\n",
    "from multiprocessing import Process"
   ]
  },
  {
   "cell_type": "code",
   "execution_count": 55,
   "metadata": {},
   "outputs": [],
   "source": [
    "def working_process():\n",
    "    while True:\n",
    "        pass\n",
    "\n",
    "proc1 = Process(target=working_process)\n",
    "proc2 = Process(target=working_process)\n"
   ]
  },
  {
   "cell_type": "code",
   "execution_count": 56,
   "metadata": {},
   "outputs": [],
   "source": [
    "proc1.start()\n",
    "proc2.start()"
   ]
  },
  {
   "cell_type": "code",
   "execution_count": 52,
   "metadata": {},
   "outputs": [],
   "source": [
    "proc1.terminate()\n",
    "proc2.terminate()"
   ]
  },
  {
   "cell_type": "code",
   "execution_count": null,
   "metadata": {},
   "outputs": [],
   "source": [
    "proc1.close()\n",
    "proc2.close()\n"
   ]
  },
  {
   "cell_type": "code",
   "execution_count": null,
   "metadata": {},
   "outputs": [],
   "source": [
    "import concurrent.futures as cf\n",
    "from concurrent.futures import ThreadPoolExecutor\n",
    "import time\n",
    "\n",
    "def fn_sleep(seconds: int):\n",
    "    print(f\"sleeping for {seconds} seconds\\n\")\n",
    "    time.sleep(seconds)\n",
    "    print(\"after sleeping\")\n",
    "timer = [1, 2, 3, 4, 5]\n",
    "with ThreadPoolExecutor(max_workers=2) as ex:\n",
    "    future = ex.submit(fn_sleep, seconds=3)\n",
    "    print(\"done \", future.done())\n",
    "    print(\"calling result\")\n",
    "    future.result()\n",
    "    print(\"done \", future.done())\n"
   ]
  },
  {
   "cell_type": "code",
   "execution_count": null,
   "metadata": {},
   "outputs": [],
   "source": [
    "import concurrent.futures as cf\n",
    "from concurrent.futures import ThreadPoolExecutor\n",
    "import time\n",
    "\n",
    "def fn_sleep(seconds: int):\n",
    "    print(f\"sleeping for {seconds} seconds\\n\")\n",
    "    time.sleep(seconds)\n",
    "    print(f\"slept for {seconds} seconds\")\n",
    "    return f\"done @ {seconds} seconds\"\n",
    "timer = [1, 2, 3, 4, 5]\n",
    "\n",
    "# %%timeit\n",
    "with ThreadPoolExecutor(max_workers=5) as ex:\n",
    "    results = ex.map(fn_sleep, timer)\n",
    "    for val in results:\n",
    "        print(val)\n",
    "    \n"
   ]
  },
  {
   "cell_type": "code",
   "execution_count": 24,
   "metadata": {},
   "outputs": [],
   "source": [
    "# concurrent futures Process Pool Executor concept\n",
    "# recommended for CPU intensive tasks.\n",
    "from concurrent.futures import ProcessPoolExecutor\n",
    "import concurrent.futures as cf\n",
    "import time\n",
    "\n",
    "# CPU Intensive function\n",
    "def fn_takes_time():\n",
    "    c = 0\n",
    "    while c < 90000000:\n",
    "        c += 1\n",
    "\n",
    "    print(\"after while loop\")\n"
   ]
  },
  {
   "cell_type": "code",
   "execution_count": null,
   "metadata": {},
   "outputs": [],
   "source": [
    "%%time\n",
    "from concurrent.futures import ProcessPoolExecutor\n",
    "import concurrent.futures as cf\n",
    "\n",
    "with ProcessPoolExecutor(max_workers=3) as ex:\n",
    "    start_time = time.time()\n",
    "    future = ex.submit(fn_takes_time)\n",
    "    future1 = ex.submit(fn_takes_time)\n",
    "\n",
    "    fn_takes_time()\n",
    "    print(\"after main fn execution\")\n",
    "    future.result()\n",
    "    future1.result()\n",
    "    print(f\"{time.time() - start_time} seconds\")\n",
    "\n"
   ]
  },
  {
   "cell_type": "code",
   "execution_count": null,
   "metadata": {},
   "outputs": [],
   "source": []
  }
 ],
 "metadata": {
  "kernelspec": {
   "display_name": "Python 3.10.6 ('.venv': venv)",
   "language": "python",
   "name": "python3"
  },
  "language_info": {
   "codemirror_mode": {
    "name": "ipython",
    "version": 3
   },
   "file_extension": ".py",
   "mimetype": "text/x-python",
   "name": "python",
   "nbconvert_exporter": "python",
   "pygments_lexer": "ipython3",
   "version": "3.10.6"
  },
  "orig_nbformat": 4,
  "vscode": {
   "interpreter": {
    "hash": "feff64d6893cbda03c2e83e1cbddced0a65bf96b8f53e8aa3240023b54e16e57"
   }
  }
 },
 "nbformat": 4,
 "nbformat_minor": 2
}
