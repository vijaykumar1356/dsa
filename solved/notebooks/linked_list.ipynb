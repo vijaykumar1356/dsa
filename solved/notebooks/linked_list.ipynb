{
 "cells": [
  {
   "cell_type": "code",
   "execution_count": null,
   "metadata": {},
   "outputs": [],
   "source": [
    "class Node(object):\n",
    "    def __init__(self, data=0, next=None) -> None:\n",
    "        self.data = data\n",
    "        self.next = next\n",
    "    \n",
    "    def __str__(self) -> str:\n",
    "        return f\"{self.data}\"\n",
    "\n",
    "class LinkedList(object):\n",
    "    def __init__(self) -> None:\n",
    "        self.head = None\n",
    "\n",
    "    def print_list(self):\n",
    "        temp = self.head\n",
    "        while temp:\n",
    "            print(f\"{temp.data} \", end=\"\")\n",
    "            temp = temp.next\n",
    "        print('\\b')\n",
    "    \n",
    "    def insert_at_beginning(self, new_data):\n",
    "        new_node = Node(new_data)\n",
    "        new_node.next = self.head\n",
    "        self.head = new_node\n",
    "    \n",
    "    def insert_after(self, after, new_data):\n",
    "        new_node = Node(new_data)\n",
    "        target = self.head\n",
    "        \n",
    "        while target:\n",
    "            if target.data == after:\n",
    "                break\n",
    "            target = target.next\n",
    "        \n",
    "        temp = target.next\n",
    "        target.next = new_node\n",
    "        new_node.next = temp\n",
    "\n",
    "    def insert_at_end(self, new_data):\n",
    "        temp = self.head\n",
    "        while temp.next:\n",
    "            temp = temp.next\n",
    "        temp.next = Node(new_data)\n",
    "        \n",
    "\n",
    "    \n",
    "l = LinkedList()\n",
    "l.insert_at_beginning(3)\n",
    "l.insert_at_beginning(1)\n",
    "l.insert_at_beginning(7)\n",
    "l.print_list()\n",
    "l.insert_after(3, 5)\n",
    "l.print_list()\n",
    "l.insert_after(7, 99)\n",
    "l.print_list()\n",
    "l.insert_after(5, 999)\n",
    "l.print_list()\n",
    "l.insert_at_end(111)\n",
    "l.print_list()"
   ]
  },
  {
   "cell_type": "code",
   "execution_count": null,
   "metadata": {},
   "outputs": [],
   "source": []
  }
 ],
 "metadata": {
  "kernelspec": {
   "display_name": "Python 3.10.12 ('.venv': venv)",
   "language": "python",
   "name": "python3"
  },
  "language_info": {
   "codemirror_mode": {
    "name": "ipython",
    "version": 3
   },
   "file_extension": ".py",
   "mimetype": "text/x-python",
   "name": "python",
   "nbconvert_exporter": "python",
   "pygments_lexer": "ipython3",
   "version": "3.10.12"
  },
  "orig_nbformat": 4,
  "vscode": {
   "interpreter": {
    "hash": "feff64d6893cbda03c2e83e1cbddced0a65bf96b8f53e8aa3240023b54e16e57"
   }
  }
 },
 "nbformat": 4,
 "nbformat_minor": 2
}
