{
 "cells": [
  {
   "cell_type": "code",
   "execution_count": 9,
   "metadata": {},
   "outputs": [
    {
     "name": "stdout",
     "output_type": "stream",
     "text": [
      "<class 'pandas.core.series.Series'>\n"
     ]
    }
   ],
   "source": [
    "import pandas as pd\n",
    "\n",
    "df = pd.DataFrame(\n",
    "        {\n",
    "            \"Name\": [\n",
    "                \"Braund, Mr. Owen Harris\",\n",
    "                \"Allen, Mr. William Henry\",\n",
    "                \"Bonnell, Miss. Elizabeth\",\n",
    "            ],\n",
    "            \"Age\": [22, 35, 58],\n",
    "            \"Sex\": [\"male\", \"male\", \"quer\"],\n",
    "        }\n",
    "    )\n",
    "print(type(df['Name']))\n"
   ]
  },
  {
   "cell_type": "code",
   "execution_count": 2,
   "metadata": {},
   "outputs": [
    {
     "name": "stdout",
     "output_type": "stream",
     "text": [
      "--Call--\n",
      "> \u001b[0;32m/home/vijayyarramsetty/Documents/prac/dsa/env/lib/python3.8/site-packages/IPython/core/displayhook.py\u001b[0m(252)\u001b[0;36m__call__\u001b[0;34m()\u001b[0m\n",
      "\u001b[0;32m    250 \u001b[0;31m        \u001b[0msys\u001b[0m\u001b[0;34m.\u001b[0m\u001b[0mstdout\u001b[0m\u001b[0;34m.\u001b[0m\u001b[0mflush\u001b[0m\u001b[0;34m(\u001b[0m\u001b[0;34m)\u001b[0m\u001b[0;34m\u001b[0m\u001b[0;34m\u001b[0m\u001b[0m\n",
      "\u001b[0m\u001b[0;32m    251 \u001b[0;31m\u001b[0;34m\u001b[0m\u001b[0m\n",
      "\u001b[0m\u001b[0;32m--> 252 \u001b[0;31m    \u001b[0;32mdef\u001b[0m \u001b[0m__call__\u001b[0m\u001b[0;34m(\u001b[0m\u001b[0mself\u001b[0m\u001b[0;34m,\u001b[0m \u001b[0mresult\u001b[0m\u001b[0;34m=\u001b[0m\u001b[0;32mNone\u001b[0m\u001b[0;34m)\u001b[0m\u001b[0;34m:\u001b[0m\u001b[0;34m\u001b[0m\u001b[0;34m\u001b[0m\u001b[0m\n",
      "\u001b[0m\u001b[0;32m    253 \u001b[0;31m        \"\"\"Printing with history cache management.\n",
      "\u001b[0m\u001b[0;32m    254 \u001b[0;31m\u001b[0;34m\u001b[0m\u001b[0m\n",
      "\u001b[0m\n"
     ]
    }
   ],
   "source": [
    "import requests\n",
    "\n",
    "resume_url = 'https://storage.googleapis.com/nytro-caliber.appspot.com/test/a62f4caedae94c_1660209901.a62f4caedae6ec.MyCV.pdf?Expires=1667215815&GoogleAccessId=firebase-adminsdk-sl39b%40nytro-caliber.iam.gserviceaccount.com&Signature=kPhgzGLqQhUJrodYfbykUooyRftKMO7TS0g4%2FxKA9Vt3HTpFaNM9qA6Mxok1wc6kEfMQ2%2BQLeVvBLJG%2FE7SCIOaeZIE6%2FLzmbDO8ZvfSkXYlL0BrfiTa59DiHM2dvMWFMzZqrR0R7NCKCo6J8c1ZvaFQWe1OFEOJ7aKKvzXpm4kYHWt4%2FsO%2Fk%2FFdD8wY6N8Zq6rXhe%2FeKTuNJbUsPKvQ8Z2%2Fits728vRg1T7IrlqDC0%2FT66NoPkAYCsvcnM6%2Fq1Te1uro0DHuxn36QrdzNg3D3EniOgGOjHE5%2FF4HluUXS%2BCNo82uLedBxuLnwsgL5D%2BTZ7%2BiOrNr2hlMxL9aoKc2Q%3D%3D'\n",
    "keyword_url = 'https://storage.googleapis.com/nytro-caliber.appspot.com/test/keywords_template.xlsx?Expires=1667215815&GoogleAccessId=firebase-adminsdk-sl39b%40nytro-caliber.iam.gserviceaccount.com&Signature=BTUVb1TTOI7%2BX%2B5QPIt%2BoNlaspMVsUI1CKn6rL%2Fw9t1LwJ8hDpnTfXyZ0NPkZPdAV%2FPCgU65%2FtRSE2vpNZea%2BV%2BNcITksdOtlixKWCCOmVv4qB2G0M230hRe2sfTlmfr8V0Sfh367t1RV6T0CHw%2Fdkw4giTLqLePrTORigJfFrMxEYgMnpAFn9GAtL%2BBcHphrOlwfhKeR8lPK%2BN8z4mAuyL8IgKYo%2BaMpfy1yuI4SUL%2BjDRBtO4oFJDnAI%2Fp%2B2TgzNxkSVfITa82FXAzqLfsX7vUW9O6Ak%2FmK%2FCa6VSsFqgW5E4W4FPVnTHmJi3Q33tt5POXnAARU0ye6yjFtuQ4rw%3D%3D'\n",
    "\n",
    "resp = requests.get(resume_url)\n",
    "import pdb; pdb.set_trace()"
   ]
  },
  {
   "cell_type": "code",
   "execution_count": null,
   "metadata": {},
   "outputs": [],
   "source": []
  }
 ],
 "metadata": {
  "kernelspec": {
   "display_name": "Python 3.8.10 ('env': venv)",
   "language": "python",
   "name": "python3"
  },
  "language_info": {
   "codemirror_mode": {
    "name": "ipython",
    "version": 3
   },
   "file_extension": ".py",
   "mimetype": "text/x-python",
   "name": "python",
   "nbconvert_exporter": "python",
   "pygments_lexer": "ipython3",
   "version": "3.8.10"
  },
  "orig_nbformat": 4,
  "vscode": {
   "interpreter": {
    "hash": "d98c23e8371902e9425d6d2325b8ba2a544584a9e25f8c428537b3eaf0217aa7"
   }
  }
 },
 "nbformat": 4,
 "nbformat_minor": 2
}
