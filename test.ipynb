{
 "cells": [
  {
   "cell_type": "code",
   "execution_count": 2,
   "metadata": {},
   "outputs": [
    {
     "data": {
      "text/plain": [
       "'julie is barking!'"
      ]
     },
     "execution_count": 2,
     "metadata": {},
     "output_type": "execute_result"
    }
   ],
   "source": [
    "class Animal(object):\n",
    "    def __init__(self, name: str) -> None:\n",
    "        self.name = name\n",
    "\n",
    "    def make_sound(self):\n",
    "        return f\"{self.name} making noise!\"\n",
    "\n",
    "\n",
    "class Dog(Animal):\n",
    "    def __init__(self, name: str) -> None:\n",
    "        super().__init__(name)\n",
    "    \n",
    "    def make_sound(self):\n",
    "        return f\"{self.name} is barking!\"\n",
    "\n",
    "a = Animal('x')\n",
    "a.make_sound()\n",
    "\n",
    "p = Dog('julie')\n",
    "p.make_sound()"
   ]
  },
  {
   "cell_type": "code",
   "execution_count": null,
   "metadata": {},
   "outputs": [],
   "source": [
    "\"\"\"\n",
    "Karza.in Interview 21-06-2023\n",
    "Problem Statement: Given an integer array arr, find the contiguous subarray (containing at least one number) which\n",
    "has the largest sum and returns its sum.\n",
    "[-3,-5,-7,6,5,8,5] -> 24\n",
    "[-6,-7,-4,23,-7] -> 23\n",
    "\"\"\"\n",
    "\n",
    "from typing import List\n",
    "\n",
    "def find_largest_sum(lst: List[int]):\n",
    "    sub_arrays = []\n",
    "    i = 0\n",
    "    largest_sum = 0\n",
    "    while i < len(lst):\n",
    "        j = len(lst)\n",
    "        while j > i:\n",
    "            sub_arrays.append(lst[i:j])\n",
    "            if sum(lst[i:j]) > largest_sum:\n",
    "                largest_sum = sum(lst[i:j])\n",
    "            j -= 1\n",
    "        i += 1\n",
    "    \n",
    "    return largest_sum\n",
    "\n",
    "\n",
    "print(find_largest_sum([-3,-5,-7,6,5,8,5]))\n",
    "print(find_largest_sum([-6,-7,-4,23,-7]))"
   ]
  }
 ],
 "metadata": {
  "kernelspec": {
   "display_name": "Python 3.10.6 ('.venv': venv)",
   "language": "python",
   "name": "python3"
  },
  "language_info": {
   "codemirror_mode": {
    "name": "ipython",
    "version": 3
   },
   "file_extension": ".py",
   "mimetype": "text/x-python",
   "name": "python",
   "nbconvert_exporter": "python",
   "pygments_lexer": "ipython3",
   "version": "3.10.6"
  },
  "orig_nbformat": 4,
  "vscode": {
   "interpreter": {
    "hash": "feff64d6893cbda03c2e83e1cbddced0a65bf96b8f53e8aa3240023b54e16e57"
   }
  }
 },
 "nbformat": 4,
 "nbformat_minor": 2
}
